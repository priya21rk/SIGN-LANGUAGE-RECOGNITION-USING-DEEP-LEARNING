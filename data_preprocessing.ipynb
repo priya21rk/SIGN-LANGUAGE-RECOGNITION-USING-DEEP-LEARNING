{
 "cells": [
  {
   "cell_type": "code",
   "execution_count": 1,
   "id": "42513b3e-a192-4cd8-94e1-1c4e4c99ecba",
   "metadata": {},
   "outputs": [],
   "source": [
    "from PIL import Image\n",
    "import numpy as np\n",
    "import os\n",
    "\n",
    "def preprocess_and_save_image(image_path, output_path, output_size=(512, 512)):\n",
    "\n",
    "    # Load and preprocess the image\n",
    "    image = Image.open(image_path).convert('L').resize(output_size)\n",
    "    image_array = np.array(image) / 255.0\n",
    "    \n",
    "    # Ensure the output directory exists\n",
    "    os.makedirs(os.path.dirname(output_path), exist_ok=True)\n",
    "    \n",
    "    # Save the preprocessed image\n",
    "    Image.fromarray((image_array * 255).astype(np.uint8)).save(output_path)\n",
    "\n",
    "def preprocess_dataset(input_directory, output_directory, output_size=(512, 512)):\n",
    "\n",
    "    for root, dirs, files in os.walk(input_directory):\n",
    "        for file in files:\n",
    "            if file.endswith('.png') or file.endswith('.jpg'):\n",
    "                input_path = os.path.join(root, file)\n",
    "                relative_path = os.path.relpath(input_path, input_directory)\n",
    "                output_path = os.path.join(output_directory, relative_path)\n",
    "                \n",
    "                preprocess_and_save_image(input_path, output_path, output_size=output_size)\n",
    "\n",
    "# Example usage\n",
    "input_directory = 'isldataset'\n",
    "output_directory = 'isl_dataset'\n",
    "preprocess_dataset(input_directory, output_directory)\n"
   ]
  },
  {
   "cell_type": "code",
   "execution_count": null,
   "id": "7226ee3b-efb6-425c-99af-ae25130d37bf",
   "metadata": {},
   "outputs": [],
   "source": []
  }
 ],
 "metadata": {
  "kernelspec": {
   "display_name": "Python 3 (ipykernel)",
   "language": "python",
   "name": "python3"
  },
  "language_info": {
   "codemirror_mode": {
    "name": "ipython",
    "version": 3
   },
   "file_extension": ".py",
   "mimetype": "text/x-python",
   "name": "python",
   "nbconvert_exporter": "python",
   "pygments_lexer": "ipython3",
   "version": "3.12.2"
  }
 },
 "nbformat": 4,
 "nbformat_minor": 5
}
